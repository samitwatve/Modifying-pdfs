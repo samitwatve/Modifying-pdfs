{
 "cells": [
  {
   "cell_type": "code",
   "execution_count": null,
   "metadata": {},
   "outputs": [],
   "source": [
    "import PyPDF2\n",
    "\n",
    "pdf_in = open(r'C:\\Users\\samit\\Documents\\Samit_Passport.pdf', 'rb')\n",
    "pdf_reader = PyPDF2.PdfReader(pdf_in)\n",
    "pdf_writer = PyPDF2.PdfWriter()\n",
    "\n",
    "counter = 1\n",
    "for pagenum in pdf_reader.pages:\n",
    "    if counter % 2 == 0:\n",
    "        pagenum.rotate(180)\n",
    "    pdf_writer.add_page(pagenum)\n",
    "    counter +=1\n",
    "    print(pagenum, counter)\n",
    "    \n",
    "pdf_out = open(r'C:\\Users\\samit\\Documents\\Samit_Passport_rotated.pdf', 'wb')\n",
    "pdf_writer.write(pdf_out)"
   ]
  },
  {
   "cell_type": "code",
   "execution_count": 3,
   "metadata": {},
   "outputs": [],
   "source": [
    "pdf_out.close()\n",
    "pdf_in.close()"
   ]
  }
 ],
 "metadata": {
  "kernelspec": {
   "display_name": "Python 3",
   "language": "python",
   "name": "python3"
  },
  "language_info": {
   "codemirror_mode": {
    "name": "ipython",
    "version": 3
   },
   "file_extension": ".py",
   "mimetype": "text/x-python",
   "name": "python",
   "nbconvert_exporter": "python",
   "pygments_lexer": "ipython3",
   "version": "3.8.3"
  }
 },
 "nbformat": 4,
 "nbformat_minor": 4
}
